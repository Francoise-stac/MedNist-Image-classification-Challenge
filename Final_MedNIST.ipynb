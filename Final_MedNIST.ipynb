{
 "cells": [
  {
   "cell_type": "code",
   "execution_count": 1,
   "id": "03a57610-2e60-4524-8020-9e2922d1c542",
   "metadata": {},
   "outputs": [],
   "source": [
    "from tensorflow.keras.models import load_model\n",
    "import numpy as np\n",
    "import joblib\n",
    "import pandas as pd\n",
    "import numpy as np\n",
    "from sklearn.metrics import confusion_matrix, classification_report\n",
    "from sklearn.metrics import accuracy_score, precision_score, recall_score\n",
    "from tensorflow.keras import layers, models\n",
    "from tensorflow.keras.optimizers import Adam\n",
    "from PIL import Image\n",
    "import os\n",
    "import shutil\n",
    "import random\n",
    "import matplotlib.pyplot as plt\n",
    "import math\n",
    "from tensorflow.keras.preprocessing.image import ImageDataGenerator\n",
    "from tensorflow.keras.applications.vgg16 import preprocess_input\n",
    "from tensorflow.keras.applications import ResNet50\n",
    "from tensorflow.keras.applications.resnet50 import preprocess_input"
   ]
  },
  {
   "cell_type": "markdown",
   "id": "317e7e54-2e92-4524-bab4-ab41517d0961",
   "metadata": {},
   "source": [
    "## Charger les données"
   ]
  },
  {
   "cell_type": "code",
   "execution_count": 2,
   "id": "f1c68e45-18d0-41e5-97af-4792453fb2f8",
   "metadata": {},
   "outputs": [
    {
     "name": "stdout",
     "output_type": "stream",
     "text": [
      "Found 47169 images belonging to 6 classes.\n"
     ]
    }
   ],
   "source": [
    "train_dir = 'C:\\\\Users\\\\Utilisateur\\\\Documents\\\\15_nonSuperviseClassification\\\\MedNIST Training Dataset'\n",
    "\n",
    "# Créez un générateur d'images avec prétraitement pour l'ensemble d'entraînement (train)\n",
    "train_datagen = ImageDataGenerator(\n",
    "    preprocessing_function=preprocess_input\n",
    ")\n",
    "\n",
    "# Utilisez les générateurs pour charger et prétraiter les ensembles de formation (train), de validation et de test\n",
    "train_generator = train_datagen.flow_from_directory(\n",
    "    train_dir,\n",
    "    target_size=(64,64),\n",
    "    batch_size=47163,\n",
    "    class_mode='sparse'\n",
    ")\n",
    "\n",
    "X, y = next(train_generator)\n"
   ]
  },
  {
   "cell_type": "markdown",
   "id": "3d9b269e-a328-4912-8b81-aa3430b38002",
   "metadata": {},
   "source": [
    "## Extraction des caracteristiques et charger le modèle"
   ]
  },
  {
   "cell_type": "code",
   "execution_count": 3,
   "id": "ebc98519-352c-4475-b0cd-993c05d7542e",
   "metadata": {},
   "outputs": [
    {
     "name": "stdout",
     "output_type": "stream",
     "text": [
      "1474/1474 [==============================] - 485s 328ms/step\n"
     ]
    }
   ],
   "source": [
    "\n",
    "# Chargement du modèle ResNet-50 pré-entraîné\n",
    "base_model = ResNet50(weights='imagenet', include_top=False, input_shape=(64, 64, 3)) \n",
    "\n",
    "#  extraire des caractéristiques\n",
    "test_features = base_model.predict(X)\n",
    "\n",
    "x_test = test_features.reshape(test_features.shape[0], -1)\n",
    "\n",
    "# Chargez le modèle SVM\n",
    "svm_model = joblib.load('modele_svm.pkl')\n",
    "\n"
   ]
  },
  {
   "cell_type": "markdown",
   "id": "91c59382-1272-4221-98a6-188bc0047db0",
   "metadata": {},
   "source": [
    "## Faire des prédictions et evaluer le modèle"
   ]
  },
  {
   "cell_type": "code",
   "execution_count": 4,
   "id": "24148d4f-cc6f-4843-ac08-a3e9a4b15b52",
   "metadata": {},
   "outputs": [
    {
     "name": "stdout",
     "output_type": "stream",
     "text": [
      "              precision    recall  f1-score   support\n",
      "\n",
      "         0.0       1.00      1.00      1.00      7998\n",
      "         1.0       1.00      1.00      1.00      7163\n",
      "         2.0       1.00      1.00      1.00      7999\n",
      "         3.0       1.00      1.00      1.00      7999\n",
      "         4.0       1.00      1.00      1.00      8000\n",
      "         5.0       1.00      1.00      1.00      8004\n",
      "\n",
      "    accuracy                           1.00     47163\n",
      "   macro avg       1.00      1.00      1.00     47163\n",
      "weighted avg       1.00      1.00      1.00     47163\n",
      "\n"
     ]
    }
   ],
   "source": [
    "from sklearn.metrics import accuracy_score, precision_score, recall_score, f1_score\n",
    "\n",
    "# Faites des prédictions\n",
    "y_pred_test = svm_model.predict(x_test)\n",
    "\n",
    "# evaluation du modèle\n",
    "print(classification_report(y, y_pred_test))"
   ]
  },
  {
   "cell_type": "markdown",
   "id": "e84cc41f-fa87-4b63-913f-248e7c92cd8a",
   "metadata": {},
   "source": [
    "## Matrice de confusion"
   ]
  },
  {
   "cell_type": "code",
   "execution_count": 6,
   "id": "655e7566-7fa7-4cd2-aa48-725da177b86c",
   "metadata": {},
   "outputs": [
    {
     "name": "stdout",
     "output_type": "stream",
     "text": [
      "Matrice de confusion :\n",
      "[[7998    0    0    0    0    0]\n",
      " [   0 7163    0    0    0    0]\n",
      " [   0    0 7999    0    0    0]\n",
      " [   0    0    0 7999    0    0]\n",
      " [   0    0    0    0 8000    0]\n",
      " [   0    0    0    0    0 8004]]\n"
     ]
    }
   ],
   "source": [
    "# Créez la matrice de confusion\n",
    "confusion = confusion_matrix(y, y_pred_test)\n",
    "print(\"Matrice de confusion :\")\n",
    "print(confusion)"
   ]
  },
  {
   "cell_type": "code",
   "execution_count": 7,
   "id": "e6043313-6d7f-4785-bff9-59270e0a5032",
   "metadata": {},
   "outputs": [
    {
     "data": {
      "image/png": "[encoded data removed]",
      "text/plain": [
       "<Figure size 400x300 with 1 Axes>"
      ]
     },
     "metadata": {},
     "output_type": "display_data"
    }
   ],
   "source": [
    "import seaborn as sns\n",
    "import matplotlib.pyplot as plt\n",
    "\n",
    "# Créez une heatmap à partir de la matrice de confusion\n",
    "plt.figure(figsize=(4, 3))\n",
    "sns.heatmap(confusion, annot=True, fmt='d', cmap='Blues', cbar=False)\n",
    "plt.xlabel('Prédictions')\n",
    "plt.ylabel('Vraies étiquettes')\n",
    "plt.title('Matrice de confusion')\n",
    "plt.show()"
   ]
  }
 ],
 "metadata": {
  "kernelspec": {
   "display_name": "Python 3 (ipykernel)",
   "language": "python",
   "name": "python3"
  },
  "language_info": {
   "codemirror_mode": {
    "name": "ipython",
    "version": 3
   },
   "file_extension": ".py",
   "mimetype": "text/x-python",
   "name": "python",
   "nbconvert_exporter": "python",
   "pygments_lexer": "ipython3",
   "version": "3.10.9"
  }
 },
 "nbformat": 4,
 "nbformat_minor": 5
}
